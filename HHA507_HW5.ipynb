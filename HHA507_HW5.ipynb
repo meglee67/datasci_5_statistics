{
  "nbformat": 4,
  "nbformat_minor": 0,
  "metadata": {
    "colab": {
      "provenance": [],
      "authorship_tag": "ABX9TyNEkrKU1hZHTNqxhGEzsTgL",
      "include_colab_link": true
    },
    "kernelspec": {
      "name": "python3",
      "display_name": "Python 3"
    },
    "language_info": {
      "name": "python"
    }
  },
  "cells": [
    {
      "cell_type": "markdown",
      "metadata": {
        "id": "view-in-github",
        "colab_type": "text"
      },
      "source": [
        "<a href=\"https://colab.research.google.com/github/meglee67/datasci_5_statistics/blob/main/HHA507_HW5.ipynb\" target=\"_parent\"><img src=\"https://colab.research.google.com/assets/colab-badge.svg\" alt=\"Open In Colab\"/></a>"
      ]
    },
    {
      "cell_type": "markdown",
      "source": [
        "# Import Packages"
      ],
      "metadata": {
        "id": "azvaxLtJz0yq"
      }
    },
    {
      "cell_type": "code",
      "source": [
        "import pandas as pd\n",
        "import numpy as np\n",
        "\n",
        "# Chi-Square Test\n",
        "from scipy.stats import chi2_contingency\n",
        "# T-Test\n",
        "from scipy.stats import ttest_ind\n",
        "# ANOVA\n",
        "import statsmodels.api as sm\n",
        "from statsmodels.formula.api import ols\n",
        "# Regression Analysis\n",
        "import matplotlib.pyplot as plt"
      ],
      "metadata": {
        "id": "zG-qDGBPz3l8"
      },
      "execution_count": 47,
      "outputs": []
    },
    {
      "cell_type": "markdown",
      "source": [
        "# 1. Chi-Square Test"
      ],
      "metadata": {
        "id": "Obp6Son7FSYJ"
      }
    },
    {
      "cell_type": "code",
      "source": [
        "diabetesdf = pd.read_csv('diabetes.csv')"
      ],
      "metadata": {
        "id": "cBcnzJRhaR62"
      },
      "execution_count": 39,
      "outputs": []
    },
    {
      "cell_type": "code",
      "source": [
        "# 0 = no diabetes 1 = yes diabetes\n",
        "diabetesdf['Diabetes_binary'].value_counts()"
      ],
      "metadata": {
        "colab": {
          "base_uri": "https://localhost:8080/"
        },
        "id": "QGa-5j--brt4",
        "outputId": "9c70492f-ab90-4a89-a8f7-af7fa39af394"
      },
      "execution_count": 40,
      "outputs": [
        {
          "output_type": "execute_result",
          "data": {
            "text/plain": [
              "0.0    218334\n",
              "1.0     35346\n",
              "Name: Diabetes_binary, dtype: int64"
            ]
          },
          "metadata": {},
          "execution_count": 40
        }
      ]
    },
    {
      "cell_type": "code",
      "source": [
        "# 0 = No 1 = Yes\n",
        "diabetesdf['HighChol'].value_counts()"
      ],
      "metadata": {
        "colab": {
          "base_uri": "https://localhost:8080/"
        },
        "id": "wd0i5MMSee8T",
        "outputId": "49cbcf7d-e4f4-4afa-bcfb-7543464e334c"
      },
      "execution_count": 41,
      "outputs": [
        {
          "output_type": "execute_result",
          "data": {
            "text/plain": [
              "0.0    146089\n",
              "1.0    107591\n",
              "Name: HighChol, dtype: int64"
            ]
          },
          "metadata": {},
          "execution_count": 41
        }
      ]
    },
    {
      "cell_type": "code",
      "source": [
        "contingency_table = pd.crosstab(diabetesdf['Diabetes_binary'], diabetesdf['HighChol'])\n",
        "print(contingency_table)\n",
        "# 0 = No 1 = Yes"
      ],
      "metadata": {
        "colab": {
          "base_uri": "https://localhost:8080/"
        },
        "id": "GuTqF1r7etqn",
        "outputId": "dc50d52c-cb4d-4049-9715-5adbd0f97c43"
      },
      "execution_count": 43,
      "outputs": [
        {
          "output_type": "stream",
          "name": "stdout",
          "text": [
            "HighChol            0.0    1.0\n",
            "Diabetes_binary               \n",
            "0.0              134429  83905\n",
            "1.0               11660  23686\n"
          ]
        }
      ]
    },
    {
      "cell_type": "code",
      "source": [
        "contingency_table = pd.crosstab(diabetesdf['Diabetes_binary'], diabetesdf['HighChol'])\n",
        "contingency_table\n",
        "# 0 = No 1 = Yes"
      ],
      "metadata": {
        "colab": {
          "base_uri": "https://localhost:8080/",
          "height": 143
        },
        "id": "1oU3fYmZe6hR",
        "outputId": "50994b82-1ef6-4a44-94fc-160224acda54"
      },
      "execution_count": 45,
      "outputs": [
        {
          "output_type": "execute_result",
          "data": {
            "text/plain": [
              "HighChol            0.0    1.0\n",
              "Diabetes_binary               \n",
              "0.0              134429  83905\n",
              "1.0               11660  23686"
            ],
            "text/html": [
              "\n",
              "  <div id=\"df-59c99d36-3544-442c-9e0e-8f3b21d86e66\" class=\"colab-df-container\">\n",
              "    <div>\n",
              "<style scoped>\n",
              "    .dataframe tbody tr th:only-of-type {\n",
              "        vertical-align: middle;\n",
              "    }\n",
              "\n",
              "    .dataframe tbody tr th {\n",
              "        vertical-align: top;\n",
              "    }\n",
              "\n",
              "    .dataframe thead th {\n",
              "        text-align: right;\n",
              "    }\n",
              "</style>\n",
              "<table border=\"1\" class=\"dataframe\">\n",
              "  <thead>\n",
              "    <tr style=\"text-align: right;\">\n",
              "      <th>HighChol</th>\n",
              "      <th>0.0</th>\n",
              "      <th>1.0</th>\n",
              "    </tr>\n",
              "    <tr>\n",
              "      <th>Diabetes_binary</th>\n",
              "      <th></th>\n",
              "      <th></th>\n",
              "    </tr>\n",
              "  </thead>\n",
              "  <tbody>\n",
              "    <tr>\n",
              "      <th>0.0</th>\n",
              "      <td>134429</td>\n",
              "      <td>83905</td>\n",
              "    </tr>\n",
              "    <tr>\n",
              "      <th>1.0</th>\n",
              "      <td>11660</td>\n",
              "      <td>23686</td>\n",
              "    </tr>\n",
              "  </tbody>\n",
              "</table>\n",
              "</div>\n",
              "    <div class=\"colab-df-buttons\">\n",
              "\n",
              "  <div class=\"colab-df-container\">\n",
              "    <button class=\"colab-df-convert\" onclick=\"convertToInteractive('df-59c99d36-3544-442c-9e0e-8f3b21d86e66')\"\n",
              "            title=\"Convert this dataframe to an interactive table.\"\n",
              "            style=\"display:none;\">\n",
              "\n",
              "  <svg xmlns=\"http://www.w3.org/2000/svg\" height=\"24px\" viewBox=\"0 -960 960 960\">\n",
              "    <path d=\"M120-120v-720h720v720H120Zm60-500h600v-160H180v160Zm220 220h160v-160H400v160Zm0 220h160v-160H400v160ZM180-400h160v-160H180v160Zm440 0h160v-160H620v160ZM180-180h160v-160H180v160Zm440 0h160v-160H620v160Z\"/>\n",
              "  </svg>\n",
              "    </button>\n",
              "\n",
              "  <style>\n",
              "    .colab-df-container {\n",
              "      display:flex;\n",
              "      gap: 12px;\n",
              "    }\n",
              "\n",
              "    .colab-df-convert {\n",
              "      background-color: #E8F0FE;\n",
              "      border: none;\n",
              "      border-radius: 50%;\n",
              "      cursor: pointer;\n",
              "      display: none;\n",
              "      fill: #1967D2;\n",
              "      height: 32px;\n",
              "      padding: 0 0 0 0;\n",
              "      width: 32px;\n",
              "    }\n",
              "\n",
              "    .colab-df-convert:hover {\n",
              "      background-color: #E2EBFA;\n",
              "      box-shadow: 0px 1px 2px rgba(60, 64, 67, 0.3), 0px 1px 3px 1px rgba(60, 64, 67, 0.15);\n",
              "      fill: #174EA6;\n",
              "    }\n",
              "\n",
              "    .colab-df-buttons div {\n",
              "      margin-bottom: 4px;\n",
              "    }\n",
              "\n",
              "    [theme=dark] .colab-df-convert {\n",
              "      background-color: #3B4455;\n",
              "      fill: #D2E3FC;\n",
              "    }\n",
              "\n",
              "    [theme=dark] .colab-df-convert:hover {\n",
              "      background-color: #434B5C;\n",
              "      box-shadow: 0px 1px 3px 1px rgba(0, 0, 0, 0.15);\n",
              "      filter: drop-shadow(0px 1px 2px rgba(0, 0, 0, 0.3));\n",
              "      fill: #FFFFFF;\n",
              "    }\n",
              "  </style>\n",
              "\n",
              "    <script>\n",
              "      const buttonEl =\n",
              "        document.querySelector('#df-59c99d36-3544-442c-9e0e-8f3b21d86e66 button.colab-df-convert');\n",
              "      buttonEl.style.display =\n",
              "        google.colab.kernel.accessAllowed ? 'block' : 'none';\n",
              "\n",
              "      async function convertToInteractive(key) {\n",
              "        const element = document.querySelector('#df-59c99d36-3544-442c-9e0e-8f3b21d86e66');\n",
              "        const dataTable =\n",
              "          await google.colab.kernel.invokeFunction('convertToInteractive',\n",
              "                                                    [key], {});\n",
              "        if (!dataTable) return;\n",
              "\n",
              "        const docLinkHtml = 'Like what you see? Visit the ' +\n",
              "          '<a target=\"_blank\" href=https://colab.research.google.com/notebooks/data_table.ipynb>data table notebook</a>'\n",
              "          + ' to learn more about interactive tables.';\n",
              "        element.innerHTML = '';\n",
              "        dataTable['output_type'] = 'display_data';\n",
              "        await google.colab.output.renderOutput(dataTable, element);\n",
              "        const docLink = document.createElement('div');\n",
              "        docLink.innerHTML = docLinkHtml;\n",
              "        element.appendChild(docLink);\n",
              "      }\n",
              "    </script>\n",
              "  </div>\n",
              "\n",
              "\n",
              "<div id=\"df-68159111-a496-4093-a2d5-9b0cba5880bd\">\n",
              "  <button class=\"colab-df-quickchart\" onclick=\"quickchart('df-68159111-a496-4093-a2d5-9b0cba5880bd')\"\n",
              "            title=\"Suggest charts.\"\n",
              "            style=\"display:none;\">\n",
              "\n",
              "<svg xmlns=\"http://www.w3.org/2000/svg\" height=\"24px\"viewBox=\"0 0 24 24\"\n",
              "     width=\"24px\">\n",
              "    <g>\n",
              "        <path d=\"M19 3H5c-1.1 0-2 .9-2 2v14c0 1.1.9 2 2 2h14c1.1 0 2-.9 2-2V5c0-1.1-.9-2-2-2zM9 17H7v-7h2v7zm4 0h-2V7h2v10zm4 0h-2v-4h2v4z\"/>\n",
              "    </g>\n",
              "</svg>\n",
              "  </button>\n",
              "\n",
              "<style>\n",
              "  .colab-df-quickchart {\n",
              "      --bg-color: #E8F0FE;\n",
              "      --fill-color: #1967D2;\n",
              "      --hover-bg-color: #E2EBFA;\n",
              "      --hover-fill-color: #174EA6;\n",
              "      --disabled-fill-color: #AAA;\n",
              "      --disabled-bg-color: #DDD;\n",
              "  }\n",
              "\n",
              "  [theme=dark] .colab-df-quickchart {\n",
              "      --bg-color: #3B4455;\n",
              "      --fill-color: #D2E3FC;\n",
              "      --hover-bg-color: #434B5C;\n",
              "      --hover-fill-color: #FFFFFF;\n",
              "      --disabled-bg-color: #3B4455;\n",
              "      --disabled-fill-color: #666;\n",
              "  }\n",
              "\n",
              "  .colab-df-quickchart {\n",
              "    background-color: var(--bg-color);\n",
              "    border: none;\n",
              "    border-radius: 50%;\n",
              "    cursor: pointer;\n",
              "    display: none;\n",
              "    fill: var(--fill-color);\n",
              "    height: 32px;\n",
              "    padding: 0;\n",
              "    width: 32px;\n",
              "  }\n",
              "\n",
              "  .colab-df-quickchart:hover {\n",
              "    background-color: var(--hover-bg-color);\n",
              "    box-shadow: 0 1px 2px rgba(60, 64, 67, 0.3), 0 1px 3px 1px rgba(60, 64, 67, 0.15);\n",
              "    fill: var(--button-hover-fill-color);\n",
              "  }\n",
              "\n",
              "  .colab-df-quickchart-complete:disabled,\n",
              "  .colab-df-quickchart-complete:disabled:hover {\n",
              "    background-color: var(--disabled-bg-color);\n",
              "    fill: var(--disabled-fill-color);\n",
              "    box-shadow: none;\n",
              "  }\n",
              "\n",
              "  .colab-df-spinner {\n",
              "    border: 2px solid var(--fill-color);\n",
              "    border-color: transparent;\n",
              "    border-bottom-color: var(--fill-color);\n",
              "    animation:\n",
              "      spin 1s steps(1) infinite;\n",
              "  }\n",
              "\n",
              "  @keyframes spin {\n",
              "    0% {\n",
              "      border-color: transparent;\n",
              "      border-bottom-color: var(--fill-color);\n",
              "      border-left-color: var(--fill-color);\n",
              "    }\n",
              "    20% {\n",
              "      border-color: transparent;\n",
              "      border-left-color: var(--fill-color);\n",
              "      border-top-color: var(--fill-color);\n",
              "    }\n",
              "    30% {\n",
              "      border-color: transparent;\n",
              "      border-left-color: var(--fill-color);\n",
              "      border-top-color: var(--fill-color);\n",
              "      border-right-color: var(--fill-color);\n",
              "    }\n",
              "    40% {\n",
              "      border-color: transparent;\n",
              "      border-right-color: var(--fill-color);\n",
              "      border-top-color: var(--fill-color);\n",
              "    }\n",
              "    60% {\n",
              "      border-color: transparent;\n",
              "      border-right-color: var(--fill-color);\n",
              "    }\n",
              "    80% {\n",
              "      border-color: transparent;\n",
              "      border-right-color: var(--fill-color);\n",
              "      border-bottom-color: var(--fill-color);\n",
              "    }\n",
              "    90% {\n",
              "      border-color: transparent;\n",
              "      border-bottom-color: var(--fill-color);\n",
              "    }\n",
              "  }\n",
              "</style>\n",
              "\n",
              "  <script>\n",
              "    async function quickchart(key) {\n",
              "      const quickchartButtonEl =\n",
              "        document.querySelector('#' + key + ' button');\n",
              "      quickchartButtonEl.disabled = true;  // To prevent multiple clicks.\n",
              "      quickchartButtonEl.classList.add('colab-df-spinner');\n",
              "      try {\n",
              "        const charts = await google.colab.kernel.invokeFunction(\n",
              "            'suggestCharts', [key], {});\n",
              "      } catch (error) {\n",
              "        console.error('Error during call to suggestCharts:', error);\n",
              "      }\n",
              "      quickchartButtonEl.classList.remove('colab-df-spinner');\n",
              "      quickchartButtonEl.classList.add('colab-df-quickchart-complete');\n",
              "    }\n",
              "    (() => {\n",
              "      let quickchartButtonEl =\n",
              "        document.querySelector('#df-68159111-a496-4093-a2d5-9b0cba5880bd button');\n",
              "      quickchartButtonEl.style.display =\n",
              "        google.colab.kernel.accessAllowed ? 'block' : 'none';\n",
              "    })();\n",
              "  </script>\n",
              "</div>\n",
              "    </div>\n",
              "  </div>\n"
            ]
          },
          "metadata": {},
          "execution_count": 45
        }
      ]
    },
    {
      "cell_type": "code",
      "source": [
        "chi2, p, _, _ = chi2_contingency(contingency_table)\n",
        "print(f\"Chi2 value: {chi2}\")\n",
        "print(f\"P-value: {p}\")"
      ],
      "metadata": {
        "colab": {
          "base_uri": "https://localhost:8080/"
        },
        "id": "KDYzl8sgfYY3",
        "outputId": "44010457-870d-4d81-ef90-5474b242523f"
      },
      "execution_count": 50,
      "outputs": [
        {
          "output_type": "stream",
          "name": "stdout",
          "text": [
            "Chi2 value: 10174.074889118883\n",
            "P-value: 0.0\n"
          ]
        }
      ]
    },
    {
      "cell_type": "markdown",
      "source": [
        "# Summary\n",
        "**Question:**\n",
        "Is there an association between if a person has high cholesterol or not and if they have diabetes or not?\n",
        "\n",
        "**H0:** There is no relationship between high cholesterol and diabetes (independent variables)\n",
        "\n",
        "**H1:** There is a relationship between high cholesterol and diabetes (dependent variables)\n",
        "\n",
        "**Insights**\n",
        "\n",
        "Testing showed a high Chi2 value of 10174 and a p-value of 0. The high Chi2 value indicates a strong association between high cholesterol and diabetes. The p-value indicates that the observed association between high cholesterol and diabetes is highly statistically significant.\n",
        "\n",
        "Therefore, based on these results I conclude that there is a significant relationship between high cholesterol and diabetes. People with high cholesterol appear to be more likely to have diabetes."
      ],
      "metadata": {
        "id": "HTEI09E2gAi_"
      }
    },
    {
      "cell_type": "markdown",
      "source": [
        "# T-Test"
      ],
      "metadata": {
        "id": "2TCRJxHnGrUG"
      }
    },
    {
      "cell_type": "code",
      "source": [
        "Obesitydf = pd.read_csv('Obesity.csv')\n",
        "len(Obesitydf)"
      ],
      "metadata": {
        "colab": {
          "base_uri": "https://localhost:8080/"
        },
        "id": "7dlFN5roGthi",
        "outputId": "347cdf8c-fc23-4d81-a0a2-5a5e584541b1"
      },
      "execution_count": 56,
      "outputs": [
        {
          "output_type": "execute_result",
          "data": {
            "text/plain": [
              "2111"
            ]
          },
          "metadata": {},
          "execution_count": 56
        }
      ]
    },
    {
      "cell_type": "code",
      "source": [
        "# Keeping only complete rows\n",
        "Obestiydf = Obesitydf.dropna()\n",
        "len(Obestiydf)"
      ],
      "metadata": {
        "colab": {
          "base_uri": "https://localhost:8080/"
        },
        "id": "YQN_i7zGp9uP",
        "outputId": "596f82d6-69bc-4077-809c-1f46c15474da"
      },
      "execution_count": 58,
      "outputs": [
        {
          "output_type": "execute_result",
          "data": {
            "text/plain": [
              "2111"
            ]
          },
          "metadata": {},
          "execution_count": 58
        }
      ]
    },
    {
      "cell_type": "code",
      "source": [
        "# Count for gender\n",
        "Obesitydf['Gender'].value_counts()"
      ],
      "metadata": {
        "colab": {
          "base_uri": "https://localhost:8080/"
        },
        "id": "wYPi3YT6rPQh",
        "outputId": "81df7757-684e-4042-bc44-bb440a1a1e6a"
      },
      "execution_count": 59,
      "outputs": [
        {
          "output_type": "execute_result",
          "data": {
            "text/plain": [
              "Male      1068\n",
              "Female    1043\n",
              "Name: Gender, dtype: int64"
            ]
          },
          "metadata": {},
          "execution_count": 59
        }
      ]
    },
    {
      "cell_type": "code",
      "source": [
        "# FCVC = Number of meals where you usually eat vegetables\n",
        "male_data = Obesitydf[Obesitydf['Gender'] == 'Male']['FCVC']\n",
        "female_data = Obesitydf[Obesitydf['Gender'] == 'Female']['FCVC']\n",
        "\n",
        "print(male_data)\n",
        "print(female_data)"
      ],
      "metadata": {
        "colab": {
          "base_uri": "https://localhost:8080/"
        },
        "id": "bS1Jn5bLriQH",
        "outputId": "e1b3299f-a5e2-471f-9dbc-c13d4fe30bfe"
      },
      "execution_count": 60,
      "outputs": [
        {
          "output_type": "stream",
          "name": "stdout",
          "text": [
            "2       2.000000\n",
            "3       3.000000\n",
            "4       2.000000\n",
            "5       2.000000\n",
            "7       2.000000\n",
            "          ...   \n",
            "1794    2.919526\n",
            "1795    2.724121\n",
            "1796    2.801992\n",
            "1797    2.748971\n",
            "1798    2.680375\n",
            "Name: FCVC, Length: 1068, dtype: float64\n",
            "0       2.0\n",
            "1       3.0\n",
            "6       3.0\n",
            "11      2.0\n",
            "15      3.0\n",
            "       ... \n",
            "2106    3.0\n",
            "2107    3.0\n",
            "2108    3.0\n",
            "2109    3.0\n",
            "2110    3.0\n",
            "Name: FCVC, Length: 1043, dtype: float64\n"
          ]
        }
      ]
    },
    {
      "cell_type": "code",
      "source": [
        "# Assuming unequal variances with Welch's t-test\n",
        "t_stat, p_val = ttest_ind(female_data, male_data, equal_var=False)\n",
        "print(f\"T-statistic: {t_stat}\")\n",
        "print(f\"P-value: {p_val}\")"
      ],
      "metadata": {
        "colab": {
          "base_uri": "https://localhost:8080/"
        },
        "id": "MTc6wrN8sC63",
        "outputId": "7362cf22-305b-4a0b-d69e-f5c925048409"
      },
      "execution_count": 62,
      "outputs": [
        {
          "output_type": "stream",
          "name": "stdout",
          "text": [
            "T-statistic: 13.088631197898543\n",
            "P-value: 1.1713837517506213e-37\n"
          ]
        }
      ]
    },
    {
      "cell_type": "code",
      "source": [
        "# Compute means for male and female\n",
        "Obesity_female_mean = female_data.mean()\n",
        "Obesity_male_mean = male_data.mean()"
      ],
      "metadata": {
        "id": "cMG4rQfnsNTQ"
      },
      "execution_count": 63,
      "outputs": []
    },
    {
      "cell_type": "code",
      "source": [
        "print(f\"Mean prevalence for female: {Obesity_female_mean}\")\n",
        "print(f\"Mean prevalence for male: {Obesity_male_mean}\")"
      ],
      "metadata": {
        "colab": {
          "base_uri": "https://localhost:8080/"
        },
        "id": "qVghkd5fsXLO",
        "outputId": "ada1796d-68ac-4cf0-e1ba-937792584299"
      },
      "execution_count": 65,
      "outputs": [
        {
          "output_type": "stream",
          "name": "stdout",
          "text": [
            "Mean prevalence for female: 2.5673194630872485\n",
            "Mean prevalence for male: 2.274237549625468\n"
          ]
        }
      ]
    },
    {
      "cell_type": "markdown",
      "source": [
        "# Summary\n",
        "**Question:**\n",
        "Is there a difference between females and males concerning number of meals where they usually eat vegetables?\n",
        "\n",
        "**H0:** There is no difference between females and males in regards to eating vegetables.\n",
        "\n",
        "**H1:** There is a difference between females and males in regards to eating vegetables.\n",
        "\n",
        "**Insights**\n",
        "\n",
        "* T-statistic: 13.088631197898543\n",
        "* P-value: 1.1713837517506213e-37\n",
        "* Mean prevalence for female: 2.5673194630872485\n",
        "* Mean prevalence for male: 2.274237549625468\n",
        "\n",
        "**T-Statistic**: The t-statistic of 13.0886 is a measure of how many standard errors the sample means are away from each other. A larger t-statistic indicates a greater difference between the groups.\n",
        "\n",
        "**P-Value**: The p-value of approximately 1.1714e-37 (or very close to zero) is highly significant. In hypothesis testing, a very low p-value (typically below the significance level, often 0.05) leads to the rejection of the null hypothesis.\n",
        "\n",
        "**Mean Prevalence for Female**: The mean prevalence for females (2.5673) represents the average number of meals where females usually eat vegetables.\n",
        "\n",
        "**Mean Prevalence for Male**: The mean prevalence for males (2.2742) represents the average number of meals where males usually eat vegetables.\n",
        "\n",
        "Given the very low p-value, **the null hypothesis (H0) is rejected in favor of the alternative hypothesis (H1)**.\n",
        "\n",
        "This indicates that there is a statistically significant difference between females and males in terms of their vegetable-eating habits, with females, on average, consuming a higher number of vegetable meals than males."
      ],
      "metadata": {
        "id": "10X55FMfqZn8"
      }
    },
    {
      "cell_type": "markdown",
      "source": [
        "# ANOVA"
      ],
      "metadata": {
        "id": "i9j3ZNoxGty6"
      }
    },
    {
      "cell_type": "code",
      "source": [
        "eatingdf = pd.read_csv('Obesity.csv')"
      ],
      "metadata": {
        "id": "SlmC5YsHGvIh"
      },
      "execution_count": 66,
      "outputs": []
    },
    {
      "cell_type": "code",
      "source": [
        "# Define a formula for the ANOVA test\n",
        "# FCVC (Number of meals with vegetables) vs. CAEC (Eating food between meals)\n",
        "formula = 'FCVC ~ C(CAEC)'"
      ],
      "metadata": {
        "id": "5biBY8tywynQ"
      },
      "execution_count": 71,
      "outputs": []
    },
    {
      "cell_type": "code",
      "source": [
        "# Create a model\n",
        "model = ols(formula, data=eatingdf).fit()"
      ],
      "metadata": {
        "id": "jTrdm9Htw2Ot"
      },
      "execution_count": 72,
      "outputs": []
    },
    {
      "cell_type": "code",
      "source": [
        "# Perform the ANOVA test\n",
        "anova_table = sm.stats.anova_lm(model, typ=2)"
      ],
      "metadata": {
        "id": "5-tx4S2Yw7WQ"
      },
      "execution_count": 73,
      "outputs": []
    },
    {
      "cell_type": "code",
      "source": [
        "# Print the ANOVA test results\n",
        "print(\"ANOVA Test Results:\")\n",
        "print(anova_table)"
      ],
      "metadata": {
        "colab": {
          "base_uri": "https://localhost:8080/"
        },
        "id": "8tcxRUMxw-rE",
        "outputId": "5edbc583-fc15-4531-86d8-d323040d1ed9"
      },
      "execution_count": 74,
      "outputs": [
        {
          "output_type": "stream",
          "name": "stdout",
          "text": [
            "ANOVA Test Results:\n",
            "              sum_sq      df         F    PR(>F)\n",
            "C(CAEC)     7.776341     3.0  9.198652  0.000005\n",
            "Residual  593.737377  2107.0       NaN       NaN\n"
          ]
        }
      ]
    },
    {
      "cell_type": "markdown",
      "source": [
        "# Summary\n",
        "**Question:**\n",
        "Is there a difference in people eating in between meals depending on how many  meals where they usually eat vegetables?\n",
        "\n",
        "**H0:** There is no difference between people eating in between meals depending on the number of meals where they usually eat vegetables.\n",
        "\n",
        "**H1:** There is a difference between people eating in between meals depending on the number of meals where they usually eat vegetables.\n",
        "\n",
        "**Insights**\n",
        "* F-value: 9.198652\n",
        "* P-value: 0.000005\n",
        "\n",
        "Since the p-value is less than the significance level (0.05) we reject the null hypothesis.\n",
        "\n",
        "There is a significant difference in the number of vegetable meals among different levels of eating between meals."
      ],
      "metadata": {
        "id": "w5omp0uyuSQz"
      }
    },
    {
      "cell_type": "markdown",
      "source": [
        "# Regression Analysis"
      ],
      "metadata": {
        "id": "KzkogIPNGvgH"
      }
    },
    {
      "cell_type": "code",
      "source": [
        "awdf = pd.read_csv('Obesity.csv')"
      ],
      "metadata": {
        "id": "4L8Yw0P50Kug"
      },
      "execution_count": 77,
      "outputs": []
    },
    {
      "cell_type": "code",
      "source": [
        "# Define the dependent and independent variables\n",
        "X = awdf['Age']\n",
        "y = awdf['Weight']"
      ],
      "metadata": {
        "id": "TRQdct2OGxNU"
      },
      "execution_count": 78,
      "outputs": []
    },
    {
      "cell_type": "code",
      "source": [
        "# Add a constant to the independent variable (required for the statsmodels regression model)\n",
        "X = sm.add_constant(X)"
      ],
      "metadata": {
        "id": "VHtMvBT70GU4"
      },
      "execution_count": 79,
      "outputs": []
    },
    {
      "cell_type": "code",
      "source": [
        "# Fit the regression model\n",
        "model = sm.OLS(y, X).fit()"
      ],
      "metadata": {
        "id": "2biNmk7D0Hqk"
      },
      "execution_count": 80,
      "outputs": []
    },
    {
      "cell_type": "code",
      "source": [
        "# Print the summary of the regression\n",
        "print(model.summary())\n",
        "\n",
        "plt.scatter(awdf['Age'], awdf['Weight'], label='Data Points')\n",
        "plt.plot(awdf['Age'], model.predict(X), color='blue', label='Regression Line')\n",
        "plt.xlabel('Age')\n",
        "plt.ylabel('Weight')\n",
        "plt.title('Relationship between Age and Weight')\n",
        "plt.legend()\n",
        "plt.show()"
      ],
      "metadata": {
        "colab": {
          "base_uri": "https://localhost:8080/",
          "height": 933
        },
        "id": "0ezx41R-0IzI",
        "outputId": "94730d78-b8e0-46c6-d817-6c2a4742d941"
      },
      "execution_count": 81,
      "outputs": [
        {
          "output_type": "stream",
          "name": "stdout",
          "text": [
            "                            OLS Regression Results                            \n",
            "==============================================================================\n",
            "Dep. Variable:                 Weight   R-squared:                       0.041\n",
            "Model:                            OLS   Adj. R-squared:                  0.041\n",
            "Method:                 Least Squares   F-statistic:                     90.24\n",
            "Date:                Sat, 14 Oct 2023   Prob (F-statistic):           5.52e-21\n",
            "Time:                        06:12:45   Log-Likelihood:                -9844.0\n",
            "No. Observations:                2111   AIC:                         1.969e+04\n",
            "Df Residuals:                    2109   BIC:                         1.970e+04\n",
            "Df Model:                           1                                         \n",
            "Covariance Type:            nonrobust                                         \n",
            "==============================================================================\n",
            "                 coef    std err          t      P>|t|      [0.025      0.975]\n",
            "------------------------------------------------------------------------------\n",
            "const         66.2605      2.211     29.964      0.000      61.924      70.597\n",
            "Age            0.8360      0.088      9.499      0.000       0.663       1.009\n",
            "==============================================================================\n",
            "Omnibus:                       88.400   Durbin-Watson:                   0.352\n",
            "Prob(Omnibus):                  0.000   Jarque-Bera (JB):               80.375\n",
            "Skew:                           0.420   Prob(JB):                     3.52e-18\n",
            "Kurtosis:                       2.544   Cond. No.                         99.7\n",
            "==============================================================================\n",
            "\n",
            "Notes:\n",
            "[1] Standard Errors assume that the covariance matrix of the errors is correctly specified.\n"
          ]
        },
        {
          "output_type": "display_data",
          "data": {
            "text/plain": [
              "<Figure size 640x480 with 1 Axes>"
            ],
            "image/png": "[encoded data removed]"
          },
          "metadata": {}
        }
      ]
    },
    {
      "cell_type": "markdown",
      "source": [
        "# Summary\n",
        "**Question:**\n",
        "Is there a relationship between age (independent) and weight (dependent)?\n",
        "\n",
        "**H0:** There is no difference between people eating in between meals depending on the number of meals where they usually eat vegetables.\n",
        "\n",
        "**H1:** There is a difference between people eating in between meals depending on the number of meals where they usually eat vegetables.\n",
        "\n",
        "**Insights**\n",
        "* R-squared: 0.041\n",
        "  * The R-squared value is a measure of the goodness of fit of the regression model.\n",
        "* **F-statistic** is 90.24, and the associated probability (Prob (F-statistic)) is very close to zero (5.52e-21)\n",
        "* The **p-values** associated with the coefficients represent the significance of each coefficient.\n",
        "  * In this case, both the constant and age coefficients have low p-values (both less than 0.05), indicating their statistical significance.\n",
        "\n",
        "The results above indicate that there is a statistically significant relationship between age and weight.\n",
        "\n",
        "However, the low R-squared value suggests that age explains only a small portion of the variance in weight meaning that other factors not included in the model may also influence weight."
      ],
      "metadata": {
        "id": "xFOOz2hqyaHE"
      }
    }
  ]
}